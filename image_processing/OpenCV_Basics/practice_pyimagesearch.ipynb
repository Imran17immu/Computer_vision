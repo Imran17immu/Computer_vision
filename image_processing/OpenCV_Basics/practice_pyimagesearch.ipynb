{
 "cells": [
  {
   "cell_type": "markdown",
   "id": "1a814df4",
   "metadata": {},
   "source": [
    "# PyImageSearch Practice File - Image Processing Basics\n",
    "https://www.pyimagesearch.com/2018/07/19/opencv-tutorial-a-guide-to-learn-opencv/"
   ]
  },
  {
   "cell_type": "code",
   "execution_count": null,
   "id": "a0ba1ee7",
   "metadata": {},
   "outputs": [],
   "source": []
  }
 ],
 "metadata": {
  "kernelspec": {
   "display_name": "Python 3",
   "language": "python",
   "name": "python3"
  },
  "language_info": {
   "codemirror_mode": {
    "name": "ipython",
    "version": 3
   },
   "file_extension": ".py",
   "mimetype": "text/x-python",
   "name": "python",
   "nbconvert_exporter": "python",
   "pygments_lexer": "ipython3",
   "version": "3.8.8"
  }
 },
 "nbformat": 4,
 "nbformat_minor": 5
}
